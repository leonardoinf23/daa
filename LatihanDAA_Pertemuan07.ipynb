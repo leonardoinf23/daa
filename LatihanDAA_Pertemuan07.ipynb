{
  "cells": [
    {
      "cell_type": "code",
      "execution_count": null,
      "metadata": {
        "colab": {
          "base_uri": "https://localhost:8080/"
        },
        "id": "6Y2YDFqQAUsY",
        "outputId": "072fe1a0-9843-4669-d35a-e6df18006a6a"
      },
      "outputs": [
        {
          "name": "stdout",
          "output_type": "stream",
          "text": [
            "Angka rahasianya adalah: 78\n"
          ]
        }
      ],
      "source": [
        "#Slide 6\n",
        "def tebak_angka(angka_rahasia):\n",
        "  for tebakan in range(1, 101):\n",
        "    if tebakan == angka_rahasia:\n",
        "      print(\"Angka rahasianya adalah:\", tebakan)\n",
        "      break\n",
        "\n",
        "angka_rahasia = 78\n",
        "tebak_angka(angka_rahasia)"
      ]
    },
    {
      "cell_type": "code",
      "execution_count": null,
      "metadata": {
        "colab": {
          "base_uri": "https://localhost:8080/"
        },
        "id": "wgDzBaJMBDX2",
        "outputId": "6191ed0b-b4ab-4340-a319-a4d8ff572147"
      },
      "outputs": [
        {
          "name": "stdout",
          "output_type": "stream",
          "text": [
            "21 0 \n",
            "42 12 \n"
          ]
        }
      ],
      "source": [
        "#slide 18\n",
        "mat1 = [\n",
        "[7, 0],\n",
        "[4, 6],\n",
        "]\n",
        "mat2 = [\n",
        "[3, 0],\n",
        "[5, 2],\n",
        "]\n",
        "mat3 = []\n",
        "for x in range(0, len(mat1)):\n",
        "  row = []\n",
        "  for y in range(0, len(mat1[0])):\n",
        "    total = 0\n",
        "    for z in range(0, len(mat1)):\n",
        "      total = total + (mat1[x][z] * mat2[z][y])\n",
        "    row.append(total)\n",
        "  mat3.append(row)\n",
        "for x in range(0, len(mat3)):\n",
        "  for y in range(0, len(mat3[0])):\n",
        "    print(mat3[x][y], end=' ')\n",
        "  print()"
      ]
    },
    {
      "cell_type": "code",
      "execution_count": null,
      "metadata": {
        "colab": {
          "base_uri": "https://localhost:8080/"
        },
        "id": "gHKZuR-HCgjj",
        "outputId": "485bf98a-58d2-43f4-abbe-806cb33a411c"
      },
      "outputs": [
        {
          "name": "stdout",
          "output_type": "stream",
          "text": [
            "Masukan nilai n: 5\n",
            "Hasil dari 5! 120\n"
          ]
        }
      ],
      "source": [
        "#faktorial slide 20\n",
        "def faktorial(n):\n",
        "  if (n==1):\n",
        "    return n\n",
        "  return faktorial(n-1)*n\n",
        "n = int(input(\"Masukan nilai n: \")) #input nilai\n",
        "print(f\"Hasil dari {n}!\", faktorial (n)) #output nilai"
      ]
    },
    {
      "cell_type": "code",
      "execution_count": null,
      "metadata": {
        "id": "g3SF9tJ2CoZI"
      },
      "outputs": [],
      "source": [
        "#Slide 23 Mencari Elemen terbesar\n",
        "def nilai_maksimal(deret_bilangan):\n",
        "  nilai_terbesar = deret_bilangan[0]\n",
        "  for nilai in deret_bilangan:\n",
        "    if nilai > nilai_terbesar:\n",
        "      nilai_terbesar = nilai\n",
        "  return nilai_terbesar"
      ]
    },
    {
      "cell_type": "code",
      "execution_count": null,
      "metadata": {
        "colab": {
          "base_uri": "https://localhost:8080/"
        },
        "id": "3s4thZVHDNmk",
        "outputId": "d42aee93-eaba-4322-b8e1-77744f85fe53"
      },
      "outputs": [
        {
          "name": "stdout",
          "output_type": "stream",
          "text": [
            "[3, 20, 100, -35, 50]\n",
            "Nilai terbesar: 100\n"
          ]
        }
      ],
      "source": [
        "a = [3, 20, 100, -35, 50]\n",
        "print(a)\n",
        "print('Nilai terbesar:', nilai_maksimal(a))"
      ]
    },
    {
      "cell_type": "code",
      "execution_count": null,
      "metadata": {
        "colab": {
          "base_uri": "https://localhost:8080/"
        },
        "id": "64BmdDWoDR1J",
        "outputId": "c740c6f0-9873-413e-e17b-780538443a34"
      },
      "outputs": [
        {
          "name": "stdout",
          "output_type": "stream",
          "text": [
            "False\n",
            "True\n"
          ]
        }
      ],
      "source": [
        "#sequentialSearch Slide 26\n",
        "def sequentialSearch(alist, item):\n",
        "  pos = 0\n",
        "  found = False\n",
        "  while pos < len(alist) and not found:\n",
        "    if alist[pos] == item:\n",
        "      found = True\n",
        "    else:\n",
        "      pos = pos+1\n",
        "  return found\n",
        "\n",
        "testlist = [1, 2, 32, 8, 17, 19, 42, 13, 0]\n",
        "print(sequentialSearch(testlist, 3))\n",
        "print(sequentialSearch(testlist, 2))"
      ]
    },
    {
      "cell_type": "code",
      "execution_count": null,
      "metadata": {
        "colab": {
          "base_uri": "https://localhost:8080/"
        },
        "id": "5FCPSkb_Ea2Y",
        "outputId": "1ccded64-e718-41aa-f2e9-79e374d0322c"
      },
      "outputs": [
        {
          "name": "stdout",
          "output_type": "stream",
          "text": [
            "[17, 20, 26, 31, 44, 54, 55, 77, 93]\n"
          ]
        }
      ],
      "source": [
        "#bubbleSort Slide 29\n",
        "def bubbleSort(alist):\n",
        "    for passnum in range(len(alist)-1,0,-1):\n",
        "        for i in range(passnum):\n",
        "            if alist[i]>alist[i+1]:\n",
        "                temp = alist[i]\n",
        "                alist[i] = alist[i+1]\n",
        "                alist[i+1] = temp\n",
        "\n",
        "alist = [54,26,93,17,77,31,44,55,20]\n",
        "bubbleSort(alist)\n",
        "print(alist)"
      ]
    },
    {
      "cell_type": "code",
      "execution_count": null,
      "metadata": {
        "colab": {
          "base_uri": "https://localhost:8080/"
        },
        "id": "yeipTXxHEv7V",
        "outputId": "0e7cc617-0434-4af9-aaea-87a399d93c22"
      },
      "outputs": [
        {
          "name": "stdout",
          "output_type": "stream",
          "text": [
            "Input satu angka bulat: 10\n",
            "10 bukan angka prima\n"
          ]
        }
      ],
      "source": [
        "#Uji perima slide 31\n",
        "x = int(input('Input satu angka bulat: '))\n",
        "angka_prima = True\n",
        "if((x == 0) or (x == 1)):\n",
        "  angka_prima = False\n",
        "else:\n",
        "  for i in range(2, (x//2)):\n",
        "    if ((x % i) == 0):\n",
        "      angka_prima = False\n",
        "      break\n",
        "if(angka_prima):\n",
        "  print(x, 'adalah angka prima')\n",
        "else:\n",
        "  print(x, 'bukan angka prima')"
      ]
    },
    {
      "cell_type": "code",
      "execution_count": null,
      "metadata": {
        "colab": {
          "base_uri": "https://localhost:8080/"
        },
        "id": "PdtqARhcE741",
        "outputId": "dd835c6c-490a-4fdf-94ce-ec6dc7d19eae"
      },
      "outputs": [
        {
          "name": "stdout",
          "output_type": "stream",
          "text": [
            "14.125\n"
          ]
        }
      ],
      "source": [
        "#polynomial_py slide 34\n",
        "def polynomial_py(a, x):\n",
        "  result = 0\n",
        "  # for every n in 0..len(a)-1\n",
        "  for n, a_n in enumerate(a):\n",
        "    # compute x^n\n",
        "    x_power_n = 1\n",
        "    for i in range(n):\n",
        "      x_power_n *= x\n",
        "    # add a_n * x^n to the final result\n",
        "    result += a_n * x_power_n\n",
        "  return result\n",
        "\n",
        "a = [1,2,0,3] # coefficients\n",
        "x = 1.5\n",
        "print(polynomial_py(a, x)) # 14.125"
      ]
    },
    {
      "cell_type": "code",
      "execution_count": null,
      "metadata": {
        "colab": {
          "base_uri": "https://localhost:8080/"
        },
        "id": "tkJDQYuBFQ0i",
        "outputId": "ac206bab-40bd-4275-c0db-9ea82b970540"
      },
      "outputs": [
        {
          "name": "stdout",
          "output_type": "stream",
          "text": [
            "The original string is : GfG is good website\n",
            "The original list is : ['GfG', 'site', 'CS', 'Geeks', 'Tutorial']\n",
            "The list of found substrings: ['GfG', 'site']\n"
          ]
        }
      ],
      "source": [
        "# Get matching substrings in string Slide 43\n",
        "# initializing string\n",
        "test_str = \"GfG is good website\";\n",
        "# initializing potential substrings\n",
        "test_list = [\"GfG\", \"site\", \"CS\", \"Geeks\", \"Tutorial\"]\n",
        "# printing original string\n",
        "print(\"The original string is :\", test_str)\n",
        "# printing potential strings list\n",
        "print(\"The original list is :\", str(test_list))\n",
        "# using list comprehension\n",
        "# Get matching substrings in string\n",
        "res = [sub for sub in test_list if sub in test_str]\n",
        "# printing result\n",
        "print(\"The list of found substrings:\", str(res))"
      ]
    },
    {
      "cell_type": "code",
      "execution_count": null,
      "metadata": {
        "colab": {
          "base_uri": "https://localhost:8080/"
        },
        "id": "_M5wqnLAFpVQ",
        "outputId": "0d8d7322-10f9-4050-cb67-8aa82c56f11b"
      },
      "outputs": [
        {
          "name": "stdout",
          "output_type": "stream",
          "text": [
            "Masukkan jumlah titik yang ingin Anda cari jaraknya: 15\n",
            "Titik: \n",
            " [[32, 83], [98, 10], [29, 19], [53, 41], [56, 15], [78, 84], [68, 56], [75, 72], [46, 44], [44, 77], [34, 76], [81, 28], [53, 79], [65, 45], [64, 52]]\n",
            "Titik:  [32, 83] Titik:  [98, 10] :  98.41239759298622\n",
            "Titik:  [32, 83] Titik:  [29, 19] :  64.07027391856539\n",
            "Titik:  [32, 83] Titik:  [53, 41] :  46.95742752749558\n",
            "Titik:  [32, 83] Titik:  [56, 15] :  72.11102550927978\n",
            "Titik:  [32, 83] Titik:  [78, 84] :  46.010868281309364\n",
            "Titik:  [32, 83] Titik:  [68, 56] :  45.0\n",
            "Titik:  [32, 83] Titik:  [75, 72] :  44.384682042344295\n",
            "Titik:  [32, 83] Titik:  [46, 44] :  41.43669871020132\n",
            "Titik:  [32, 83] Titik:  [44, 77] :  13.416407864998739\n",
            "Titik:  [32, 83] Titik:  [34, 76] :  7.280109889280518\n",
            "Titik:  [32, 83] Titik:  [81, 28] :  73.66138744281159\n",
            "Titik:  [32, 83] Titik:  [53, 79] :  21.37755832643195\n",
            "Titik:  [32, 83] Titik:  [65, 45] :  50.32891812864648\n",
            "Titik:  [32, 83] Titik:  [64, 52] :  44.553338819890925\n",
            "Titik:  [98, 10] Titik:  [29, 19] :  69.58448102845921\n",
            "Titik:  [98, 10] Titik:  [53, 41] :  54.644304369257\n",
            "Titik:  [98, 10] Titik:  [56, 15] :  42.2965719651132\n",
            "Titik:  [98, 10] Titik:  [78, 84] :  76.6550715869472\n",
            "Titik:  [98, 10] Titik:  [68, 56] :  54.91812087098393\n",
            "Titik:  [98, 10] Titik:  [75, 72] :  66.12866246946176\n",
            "Titik:  [98, 10] Titik:  [46, 44] :  62.12889826803627\n",
            "Titik:  [98, 10] Titik:  [44, 77] :  86.05230967266364\n",
            "Titik:  [98, 10] Titik:  [34, 76] :  91.93475947648963\n",
            "Titik:  [98, 10] Titik:  [81, 28] :  24.758836806279895\n",
            "Titik:  [98, 10] Titik:  [53, 79] :  82.37718130647589\n",
            "Titik:  [98, 10] Titik:  [65, 45] :  48.104053883222775\n",
            "Titik:  [98, 10] Titik:  [64, 52] :  54.037024344425184\n",
            "Titik:  [29, 19] Titik:  [53, 41] :  32.55764119219941\n",
            "Titik:  [29, 19] Titik:  [56, 15] :  27.294688127912362\n",
            "Titik:  [29, 19] Titik:  [78, 84] :  81.40024569987489\n",
            "Titik:  [29, 19] Titik:  [68, 56] :  53.75872022286245\n",
            "Titik:  [29, 19] Titik:  [75, 72] :  70.178344238091\n",
            "Titik:  [29, 19] Titik:  [46, 44] :  30.23243291566195\n",
            "Titik:  [29, 19] Titik:  [44, 77] :  59.90826320300064\n",
            "Titik:  [29, 19] Titik:  [34, 76] :  57.21887800367987\n",
            "Titik:  [29, 19] Titik:  [81, 28] :  52.773099207835045\n",
            "Titik:  [29, 19] Titik:  [53, 79] :  64.62197768561404\n",
            "Titik:  [29, 19] Titik:  [65, 45] :  44.40720662234904\n",
            "Titik:  [29, 19] Titik:  [64, 52] :  48.104053883222775\n",
            "Titik:  [53, 41] Titik:  [56, 15] :  26.1725046566048\n",
            "Titik:  [53, 41] Titik:  [78, 84] :  49.73932046178355\n",
            "Titik:  [53, 41] Titik:  [68, 56] :  21.213203435596427\n",
            "Titik:  [53, 41] Titik:  [75, 72] :  38.01315561749642\n",
            "Titik:  [53, 41] Titik:  [46, 44] :  7.615773105863909\n",
            "Titik:  [53, 41] Titik:  [44, 77] :  37.107950630558946\n",
            "Titik:  [53, 41] Titik:  [34, 76] :  39.824615503479755\n",
            "Titik:  [53, 41] Titik:  [81, 28] :  30.870698080866262\n",
            "Titik:  [53, 41] Titik:  [53, 79] :  38.0\n",
            "Titik:  [53, 41] Titik:  [65, 45] :  12.649110640673518\n",
            "Titik:  [53, 41] Titik:  [64, 52] :  15.556349186104045\n",
            "Titik:  [56, 15] Titik:  [78, 84] :  72.42237223399962\n",
            "Titik:  [56, 15] Titik:  [68, 56] :  42.720018726587654\n",
            "Titik:  [56, 15] Titik:  [75, 72] :  60.08327554319921\n",
            "Titik:  [56, 15] Titik:  [46, 44] :  30.675723300355934\n",
            "Titik:  [56, 15] Titik:  [44, 77] :  63.150613615387776\n",
            "Titik:  [56, 15] Titik:  [34, 76] :  64.8459713474939\n",
            "Titik:  [56, 15] Titik:  [81, 28] :  28.178005607210743\n",
            "Titik:  [56, 15] Titik:  [53, 79] :  64.07027391856539\n",
            "Titik:  [56, 15] Titik:  [65, 45] :  31.32091952673165\n",
            "Titik:  [56, 15] Titik:  [64, 52] :  37.8549864614954\n",
            "Titik:  [78, 84] Titik:  [68, 56] :  29.732137494637012\n",
            "Titik:  [78, 84] Titik:  [75, 72] :  12.36931687685298\n",
            "Titik:  [78, 84] Titik:  [46, 44] :  51.22499389946279\n",
            "Titik:  [78, 84] Titik:  [44, 77] :  34.713109915419565\n",
            "Titik:  [78, 84] Titik:  [34, 76] :  44.721359549995796\n",
            "Titik:  [78, 84] Titik:  [81, 28] :  56.08029957123981\n",
            "Titik:  [78, 84] Titik:  [53, 79] :  25.495097567963924\n",
            "Titik:  [78, 84] Titik:  [65, 45] :  41.10960958218893\n",
            "Titik:  [78, 84] Titik:  [64, 52] :  34.92849839314596\n",
            "Titik:  [68, 56] Titik:  [75, 72] :  17.46424919657298\n",
            "Titik:  [68, 56] Titik:  [46, 44] :  25.059928172283335\n",
            "Titik:  [68, 56] Titik:  [44, 77] :  31.89043743820395\n",
            "Titik:  [68, 56] Titik:  [34, 76] :  39.44616584663204\n",
            "Titik:  [68, 56] Titik:  [81, 28] :  30.870698080866262\n",
            "Titik:  [68, 56] Titik:  [53, 79] :  27.459060435491963\n",
            "Titik:  [68, 56] Titik:  [65, 45] :  11.40175425099138\n",
            "Titik:  [68, 56] Titik:  [64, 52] :  5.656854249492381\n",
            "Titik:  [75, 72] Titik:  [46, 44] :  40.311288741492746\n",
            "Titik:  [75, 72] Titik:  [44, 77] :  31.400636936215164\n",
            "Titik:  [75, 72] Titik:  [34, 76] :  41.19465984809196\n",
            "Titik:  [75, 72] Titik:  [81, 28] :  44.40720662234904\n",
            "Titik:  [75, 72] Titik:  [53, 79] :  23.08679276123039\n",
            "Titik:  [75, 72] Titik:  [65, 45] :  28.792360097775937\n",
            "Titik:  [75, 72] Titik:  [64, 52] :  22.825424421026653\n",
            "Titik:  [46, 44] Titik:  [44, 77] :  33.06055050963308\n",
            "Titik:  [46, 44] Titik:  [34, 76] :  34.17601498127012\n",
            "Titik:  [46, 44] Titik:  [81, 28] :  38.48376280978771\n",
            "Titik:  [46, 44] Titik:  [53, 79] :  35.6931365951495\n",
            "Titik:  [46, 44] Titik:  [65, 45] :  19.026297590440446\n",
            "Titik:  [46, 44] Titik:  [64, 52] :  19.697715603592208\n",
            "Titik:  [44, 77] Titik:  [34, 76] :  10.04987562112089\n",
            "Titik:  [44, 77] Titik:  [81, 28] :  61.40032573203501\n",
            "Titik:  [44, 77] Titik:  [53, 79] :  9.219544457292887\n",
            "Titik:  [44, 77] Titik:  [65, 45] :  38.27531841800928\n",
            "Titik:  [44, 77] Titik:  [64, 52] :  32.01562118716424\n",
            "Titik:  [34, 76] Titik:  [81, 28] :  67.17886572427373\n",
            "Titik:  [34, 76] Titik:  [53, 79] :  19.235384061671343\n",
            "Titik:  [34, 76] Titik:  [65, 45] :  43.840620433565945\n",
            "Titik:  [34, 76] Titik:  [64, 52] :  38.41874542459709\n",
            "Titik:  [81, 28] Titik:  [53, 79] :  58.180752831155424\n",
            "Titik:  [81, 28] Titik:  [65, 45] :  23.345235059857504\n",
            "Titik:  [81, 28] Titik:  [64, 52] :  29.410882339705484\n",
            "Titik:  [53, 79] Titik:  [65, 45] :  36.05551275463989\n",
            "Titik:  [53, 79] Titik:  [64, 52] :  29.154759474226502\n",
            "Titik:  [65, 45] Titik:  [64, 52] :  7.0710678118654755\n",
            "Jarak terdekat: \n",
            " 5.656854249492381\n"
          ]
        }
      ],
      "source": [
        "#Mencari pasangan titik terdekat slide 48\n",
        "from math import sqrt\n",
        "from random import randint\n",
        "titik = []\n",
        "n = int(input('Masukkan jumlah titik yang ingin Anda cari jaraknya: '))\n",
        "for i in range (0,n):\n",
        "  titik.append([randint(0,100), randint(0,100)])\n",
        "print('Titik: \\n', titik)\n",
        "def hitungjarak(lis):\n",
        "  lisjarak = []\n",
        "  for i in range (0,len(lis)-1):\n",
        "    for j in range (i+1,len(lis)):\n",
        "      jarak = sqrt((lis[i][0]-lis[j][0])**2 + (lis[i][1]-lis[j][1])**2)\n",
        "      lisjarak.append(jarak)\n",
        "      print('Titik: ',lis[i], 'Titik: ',lis[j],': ',jarak)\n",
        "  return min(lisjarak)\n",
        "print('Jarak terdekat: \\n', hitungjarak (titik))"
      ]
    },
    {
      "cell_type": "code",
      "execution_count": null,
      "metadata": {
        "colab": {
          "base_uri": "https://localhost:8080/"
        },
        "id": "sanYXfOoGOcW",
        "outputId": "2186a350-88d1-45f6-e80e-0a335d49aed2"
      },
      "outputs": [
        {
          "name": "stdout",
          "output_type": "stream",
          "text": [
            "100\n"
          ]
        }
      ],
      "source": [
        "#algoritma Brute Force: Linear Search Slide 87\n",
        "\n",
        "def find_maximum(lst):\n",
        "  max = None\n",
        "  for el in lst:\n",
        "    if max == None or el > max:\n",
        "      max = el\n",
        "  return max\n",
        "\n",
        "test_scores = [88, 93, 75, 100, 80, 67, 71, 92, 90, 83]\n",
        "print(find_maximum(test_scores)) # returns 100"
      ]
    },
    {
      "cell_type": "code",
      "execution_count": null,
      "metadata": {
        "colab": {
          "base_uri": "https://localhost:8080/"
        },
        "id": "RWrhXws2G8UJ",
        "outputId": "7d1b79de-2573-4aad-f477-e726665177b8"
      },
      "outputs": [
        {
          "name": "stdout",
          "output_type": "stream",
          "text": [
            "[17, 20, 26, 31, 44, 54, 55, 77, 93]\n"
          ]
        }
      ],
      "source": [
        "#algoritma Brute Force: Bubble Sort slide 88\n",
        "\n",
        "def bubbleSort(alist):\n",
        "  for passnum in range(len(alist)-1,0,-1):\n",
        "    for i in range(passnum):\n",
        "      if alist[i]>alist[i+1]:\n",
        "        temp = alist[i]\n",
        "        alist[i] = alist[i+1]\n",
        "        alist[i+1] = temp\n",
        "\n",
        "alist = [54, 26, 93, 17,77,31,44,55,20]\n",
        "bubbleSort(alist)\n",
        "print(alist)"
      ]
    },
    {
      "cell_type": "code",
      "execution_count": null,
      "metadata": {
        "id": "eYqO-8kpHO_8"
      },
      "outputs": [],
      "source": [
        "#algoritma Brute Force: Sequential Search Slide 90\n",
        "\n",
        "def Sequential_Search(dlist, item):\n",
        "  pos = 0\n",
        "  found = False\n",
        "  while pos < len(dlist) and not found:\n",
        "    if dlist[pos] == item:\n",
        "      found = True\n",
        "    else:\n",
        "      pos = pos + 1\n",
        "  return found, pos"
      ]
    },
    {
      "cell_type": "code",
      "execution_count": null,
      "metadata": {
        "colab": {
          "base_uri": "https://localhost:8080/"
        },
        "id": "c6aV5B1sHnw1",
        "outputId": "f2a3c264-cc6d-4a5f-9e76-dbe8efc7fe25"
      },
      "outputs": [
        {
          "name": "stdout",
          "output_type": "stream",
          "text": [
            "(True, 3)\n"
          ]
        }
      ],
      "source": [
        "print(Sequential_Search([11,23,58,31,56, 77, 43, 12,65,19],31))"
      ]
    },
    {
      "cell_type": "code",
      "execution_count": null,
      "metadata": {
        "colab": {
          "base_uri": "https://localhost:8080/"
        },
        "id": "oOV4lcEpHprm",
        "outputId": "a5bd36d5-3c7f-4a2d-9ce6-14beb9e5ee28"
      },
      "outputs": [
        {
          "name": "stdout",
          "output_type": "stream",
          "text": [
            "Masukkan bilangan: 2\n",
            "Masukkan pangkat: 3\n",
            "Hasil = 8\n"
          ]
        }
      ],
      "source": [
        "#algoritma Brute Force: pangkat Slide 92\n",
        "\n",
        "bilangan = int(input('Masukkan bilangan: '))\n",
        "pangkat = int(input('Masukkan pangkat: '))\n",
        "\n",
        "def hitung_pangkat(bilangan, pangkat):\n",
        "  if pangkat > 1:\n",
        "    return bilangan * hitung_pangkat(bilangan, pangkat - 1)\n",
        "  return bilangan\n",
        "\n",
        "hasil = hitung_pangkat(bilangan, pangkat)\n",
        "print(f'Hasil = {hasil}')"
      ]
    },
    {
      "cell_type": "code",
      "execution_count": null,
      "metadata": {
        "id": "8EJWnF9bIJsU"
      },
      "outputs": [],
      "source": [
        "#algoritma Brute Force: Faktorial 93\n",
        "\n",
        "n = int(input('Masukkan nilai n: '))\n",
        "\n",
        "def hitung_faktorial(n):\n",
        "  if n > 2:\n",
        "    return n * hitung_faktorial(n - 1)\n",
        "  return 2\n",
        "\n",
        "faktorial = hitung_faktorial(n)\n",
        "print(f'{n}! = {faktorial}')"
      ]
    },
    {
      "cell_type": "code",
      "execution_count": null,
      "metadata": {
        "colab": {
          "base_uri": "https://localhost:8080/"
        },
        "id": "2H3JYc1WIr4y",
        "outputId": "244dcc88-d12d-40dd-c95d-9e36e59e02fa"
      },
      "outputs": [
        {
          "name": "stdout",
          "output_type": "stream",
          "text": [
            "4\n"
          ]
        }
      ],
      "source": [
        "#algoritma Brute Force: String matching Slide 94\n",
        "\n",
        "def string_match(string, sub_str):\n",
        "    # Brute force string matching\n",
        "    for i in range(len(string)-len(sub_str)+1):\n",
        "        index = i # index Point to the 1 Three characters to be compared\n",
        "        for j in range(len(sub_str)):\n",
        "            if string[index] == sub_str[j]:\n",
        "                index += 1\n",
        "            else:\n",
        "                break\n",
        "        if index-i == len(sub_str):\n",
        "            return i\n",
        "    return -1\n",
        "\n",
        "if __name__ == \"__main__\":\n",
        "    print(string_match(\"adbcbdc\", \"bdc\"))"
      ]
    },
    {
      "cell_type": "code",
      "execution_count": null,
      "metadata": {
        "id": "SnW2DvmzJU5x"
      },
      "outputs": [],
      "source": [
        "#Algoritma Brute Force Slide 101\n",
        "import random\n",
        "from itertools import permutations\n",
        "\n",
        "alltours = permutations\n",
        "\n",
        "def distance_tour(aTour):\n",
        "    return sum(distance_points(aTour[i - 1], aTour[i])\n",
        "               for i in range(len(aTour)))\n",
        "\n",
        "# Define aCity as complex before its usage\n",
        "acity = complex\n",
        "\n",
        "def distance_points(first, second):\n",
        "    return abs(first - second)\n",
        "\n",
        "def generate_cities(number_of_cities):\n",
        "    seed = 111\n",
        "    width = 500\n",
        "    height = 300\n",
        "    random.seed((number_of_cities, seed))\n",
        "    return frozenset(acity(random.randint(1, width), random.randint(1, height)) # Use acity here\n",
        "                    for c in range(number_of_cities))"
      ]
    },
    {
      "cell_type": "code",
      "execution_count": null,
      "metadata": {
        "id": "QzCegXPxJ6nW"
      },
      "outputs": [],
      "source": [
        "#STRATEGI ALGORITMA BRUTE FORCE Slide 102\n",
        "\n",
        "%matplotlib inline\n",
        "import matplotlib.pyplot as plt\n",
        "def visualize_tour (tour, style='bo-'):\n",
        "    if len(tour) > 1000: plt.figure(figsize=(15, 10))\n",
        "    start = tour [0:1]\n",
        "    visualize_segment (tour + start, style)\n",
        "    visualize_segment (start, 'rD')\n",
        "def visualize_segment (segment, style='bo-'):\n",
        "    plt.plot([X(c) for c in segment], [Y(c) for c in segment], style, clip_on=False)\n",
        "    plt.axis('scaled')\n",
        "    plt.axis('off')\n",
        "def X(city):\n",
        "    \"X axis\"\n",
        "    return city.real\n",
        "def Y(city):\n",
        "    \"Y axis\"\n",
        "    return city.imag\n"
      ]
    },
    {
      "cell_type": "code",
      "execution_count": null,
      "metadata": {
        "id": "voUXLcrgKf6N"
      },
      "outputs": [],
      "source": [
        "#STRATEGI ALGORITMA BRUTE FORCE Slide 103\n",
        "\n",
        "from time import process_time\n",
        "from collections import Counter\n",
        "\n",
        "def tsp(algorithm, cities):\n",
        "    # Assign t0 the initial time before the algorithm starts\n",
        "    t0 = process_time()\n",
        "    tour = algorithm(cities)\n",
        "    t1 = process_time()\n",
        "    assert Counter(tour) == Counter(cities)\n",
        "    visualize_tour(tour)\n",
        "    print(\"{}:{} cities => tour length {:.0f}(in {:.3f} sec)\".format(name(algorithm), len(tour), distance_tour(tour), t1-t0))\n",
        "\n",
        "def name (algorithm): return algorithm.__name__.replace('_tsp','')"
      ]
    },
    {
      "cell_type": "code",
      "execution_count": null,
      "metadata": {
        "colab": {
          "base_uri": "https://localhost:8080/",
          "height": 423
        },
        "id": "_JPncCxVLD3g",
        "outputId": "2789b5df-e138-4e65-d943-35ded3212076"
      },
      "outputs": [
        {
          "name": "stderr",
          "output_type": "stream",
          "text": [
            "<ipython-input-30-b9d7745bccbc>:21: DeprecationWarning: Seeding based on hashing is deprecated\n",
            "since Python 3.9 and will be removed in a subsequent version. The only \n",
            "supported seed types are: None, int, float, str, bytes, and bytearray.\n",
            "  random.seed((number_of_cities, seed))\n"
          ]
        },
        {
          "name": "stdout",
          "output_type": "stream",
          "text": [
            "brute_force:10 cities => tour length 1224(in 13.276 sec)\n"
          ]
        },
        {
          "data": {
            "image/png": "[encoded data removed]",
            "text/plain": [
              "<Figure size 640x480 with 1 Axes>"
            ]
          },
          "metadata": {},
          "output_type": "display_data"
        }
      ],
      "source": [
        "def brute_force(cities):\n",
        "  \"Generate all possible tours of the cities and choose the shortest tour.\"\n",
        "  return shortest_tour(alltours(cities))\n",
        "\n",
        "def shortest_tour(tours): return min(tours, key=distance_tour)\n",
        "\n",
        "tsp(brute_force, generate_cities(10))"
      ]
    },
    {
      "cell_type": "code",
      "execution_count": null,
      "metadata": {
        "colab": {
          "background_save": true,
          "base_uri": "https://localhost:8080/"
        },
        "id": "IM0lGHGMdGZb",
        "outputId": "27e10e6f-0a2d-40f2-bb2f-573a7c0eea92"
      },
      "outputs": [
        {
          "name": "stderr",
          "output_type": "stream",
          "text": [
            "<ipython-input-36-248f95356c94>:26: DeprecationWarning: Seeding based on hashing is deprecated\n",
            "since Python 3.9 and will be removed in a subsequent version. The only \n",
            "supported seed types are: None, int, float, str, bytes, and bytearray.\n",
            "  random.seed((number_of_cities, seed))\n"
          ]
        }
      ],
      "source": [
        "def brute_force(cities):\n",
        "  \"Generate all possible tours of the cities and choose the shortest tour.\"\n",
        "  return shortest_tour(alltours(cities))\n",
        "\n",
        "def shortest_tour(tours): return min(tours, key=distance_tour)\n",
        "\n",
        "tsp(brute_force, generate_cities(20))"
      ]
    }
  ],
  "metadata": {
    "colab": {
      "provenance": []
    },
    "kernelspec": {
      "display_name": "Python 3",
      "name": "python3"
    },
    "language_info": {
      "name": "python"
    }
  },
  "nbformat": 4,
  "nbformat_minor": 0
}